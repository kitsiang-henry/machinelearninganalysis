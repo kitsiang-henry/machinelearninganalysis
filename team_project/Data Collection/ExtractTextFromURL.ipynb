{
 "cells": [
  {
   "cell_type": "code",
   "execution_count": 1,
   "metadata": {},
   "outputs": [],
   "source": [
    "import os\n",
    "import requests\n",
    "import time\n",
    "from bs4 import BeautifulSoup\n",
    "import textract\n",
    "import numpy as np"
   ]
  },
  {
   "cell_type": "code",
   "execution_count": 2,
   "metadata": {},
   "outputs": [],
   "source": [
    "#initialize variables\n",
    "url_list = []"
   ]
  },
  {
   "cell_type": "code",
   "execution_count": 3,
   "metadata": {},
   "outputs": [],
   "source": [
    "#Methods\n",
    "def get_urls_from_path(path,url_list):\n",
    "    for filename in os.listdir(path):\n",
    "        print(filename)\n",
    "        \n",
    "        #IGNORE IT\n",
    "        if \".ipynb_checkpoints\" == filename:\n",
    "            continue\n",
    "            \n",
    "        f = open(path + '/' + filename,'r')\n",
    "        \n",
    "        for url in f:\n",
    "            url_list.append(url.replace(\"\\n\",\"\"))\n",
    "\n",
    "    return url_list\n",
    "\n",
    "\n",
    "def content_from_result(results_list):\n",
    "    content = \"\"\n",
    "    for result in results_list:\n",
    "        text = result.get_text()\n",
    "        text = text.replace(\"\\n\",\"\")\n",
    "        text = text.replace(\",\",\";\")\n",
    "        text = text.replace(\"  \",\"\")\n",
    "        text = text.replace(\"\\r\",\" \")\n",
    "        text = text.replace(\"\\xa0\",\" \")\n",
    "        text = text.replace(\"©\",\"copyrighted \")\n",
    "        content += text\n",
    "    return content\n",
    "\n",
    "def unique(list1): \n",
    "    x = np.array(list1) \n",
    "    return np.unique(x).tolist()"
   ]
  },
  {
   "cell_type": "code",
   "execution_count": 4,
   "metadata": {},
   "outputs": [
    {
     "name": "stdout",
     "output_type": "stream",
     "text": [
      "URA_AND_elderly1580696524.txt\n",
      "URA_AND_elderly_friendly1580696613.txt\n",
      ".ipynb_checkpoints\n",
      "singapore_elderly_and_young1581687092.txt\n",
      "70\n"
     ]
    },
    {
     "data": {
      "text/plain": [
       "64"
      ]
     },
     "execution_count": 4,
     "metadata": {},
     "output_type": "execute_result"
    }
   ],
   "source": [
    "url_list = get_urls_from_path(\"./out\",url_list)\n",
    "print(len(url_list))\n",
    "url_list = unique(url_list)\n",
    "len(url_list)"
   ]
  },
  {
   "cell_type": "code",
   "execution_count": 5,
   "metadata": {},
   "outputs": [],
   "source": [
    "import requests\n",
    "from bs4 import BeautifulSoup\n",
    "\n",
    "def get_pdf_content_from_url(url):\n",
    "    myfile = requests.get(url)\n",
    "    \n",
    "    path = \"./temp/\"\n",
    "    if not os.path.exists(path):\n",
    "        os.makedirs(path)\n",
    "    \n",
    "    open(path + 'temp.pdf', 'wb').write(myfile.content)\n",
    "    text = textract.process(path + \"temp.pdf\")\n",
    "    \n",
    "    text = text.decode()\n",
    "    text = text.replace(\"\\n\",\"\")\n",
    "    text = text.replace(\"\\x0c\",\"\")\n",
    "    text = text.replace(\",\",\";\")\n",
    "    text = text.replace(\"  \",\"\")\n",
    "    text = text.replace(\"©\",\"copyrighted \")\n",
    "    \n",
    "    os.remove(path + \"temp.pdf\")\n",
    "    return text\n",
    "\n",
    "def get_content_from_url(url):\n",
    "\n",
    "    content = \"\"\n",
    "    if \".pdf\" not in url:\n",
    "        page = requests.get(url)\n",
    "        page_content = page.content\n",
    "\n",
    "        soup = BeautifulSoup(page_content, 'html.parser')\n",
    "\n",
    "        results_list = soup.find_all('h2')\n",
    "        content += content_from_result(results_list)\n",
    "\n",
    "        results_list = soup.find_all('p')\n",
    "        content += \" \" + content_from_result(results_list)\n",
    "        return content\n",
    "    else:\n",
    "        return get_pdf_content_from_url(url)\n",
    "        "
   ]
  },
  {
   "cell_type": "code",
   "execution_count": 6,
   "metadata": {},
   "outputs": [
    {
     "name": "stdout",
     "output_type": "stream",
     "text": [
      "http://michaellee.sg/archive converted to text.\n",
      "http://sgre.com.sg/ura-to-monitor-outcome-of-first-retirement-village-before-deciding-on-future-land-sites/ converted to text.\n",
      "http://tsaofoundation.org/doc/dimensions_aging.pdf converted to text.\n",
      "http://www.asiaone.com/health/ageing-singapore-get-first-retirement-village converted to text.\n",
      "http://www.jeraldinephneah.com/singapore-elderly-population-poor/ converted to text.\n",
      "http://www.singaporebudget.gov.sg/budget_2012/download/Category1/VJ2_Housing.pdf converted to text.\n",
      "http://www.smj.org.sg/article/successful-ageing-singapore-prevalence-and-correlates-national-survey-older-adults converted to text.\n",
      "http://www.yah.org.sg/ converted to text.\n",
      "https://academic.oup.com/gerontologist/article/59/3/401/5230750 failed to convert to text.\n",
      "https://cityofgood.sg/resources/cheatsheet-issues-faced-by-the-elderly-in-singapore/ converted to text.\n",
      "https://epochtimes.today/fostering-communication-between-the-youth-and-the-elderly/ converted to text.\n",
      "https://ink.library.smu.edu.sg/cgi/viewcontent.cgi?article=3265&context=soe_research converted to text.\n",
      "https://lkycic.sutd.edu.sg/research/ageing-urbanism/innovative-planning-design-age-friendly-neighbourhoods-singapore/ converted to text.\n",
      "https://lkyspp.nus.edu.sg/docs/default-source/case-studies/entry-1792-successful_ageing_in_singapore_092017.pdf?sfvrsn=21d7950b_0 failed to convert to text.\n",
      "https://lkyspp.nus.edu.sg/gia/article/research-spotlight-series-sandwiched-couples-the-dual-burden-of-caring-for-parents-and-children converted to text.\n",
      "https://mothership.sg/2017/12/demographic-time-bomb-singapore/ converted to text.\n",
      "https://rsvp.org.sg/senior-guiding-programme/ converted to text.\n",
      "https://sg.linkedin.com/in/jeannie-quek-a3635620 converted to text.\n",
      "https://sg.news.yahoo.com/four-young-singaporeans-trying-older-120526197.html converted to text.\n",
      "https://singaporeconference.uli.org/session/workshop-building-age-friendly-neighbourhoods-in-singapore/ converted to text.\n",
      "https://static1.squarespace.com/static/591e6a001b631bff6312f919/t/5d89affc87e82e702f513c8f/1569304663088/f+HKIP+Journal+33.pdf converted to text.\n",
      "https://www.99.co/blog/singapore/singapores-first-dementia-care-village-is-in-the-works/ converted to text.\n",
      "https://www.cdac.org.sg/category/events/pages/6/ converted to text.\n",
      "https://www.change.org/p/please-lta-ura-build-a-short-pedestrian-path-to-connect-mt-sophia-with-orchard-road-handy-rd-to-help-the-residents-of-sophia-road-adis-road-mt-emily-and-wilkie-road converted to text.\n",
      "https://www.channelnewsasia.com/news/cnainsider/elderly-childcare-salzgitter-mother-centre-multigenerational-10824718 converted to text.\n",
      "https://www.channelnewsasia.com/news/cnainsider/how-singapore-sees-its-millennials-regardless-of-generation-gap-12003764 converted to text.\n",
      "https://www.channelnewsasia.com/news/singapore/site-sembawang-park-tender-pilot-dementia-care-village-gibraltar-11723874 converted to text.\n",
      "https://www.clc.gov.sg/docs/default-source/books/book-age-friendly-cities.pdf converted to text.\n",
      "https://www.csc.gov.sg/articles/positive-ageing-how-can-we-make-it-happen converted to text.\n",
      "https://www.duke-nus.edu.sg/docs/librariesprovider3/research-policy-brief-docs/care-special-issue-1---changes-in-the-profile-of-older-singaporeans.pdf failed to convert to text.\n",
      "https://www.facebook.com/hpbsg/photos/do-you-know-that-the-elderly-and-young-children-are-at-high-risk-of-developing-f/2068783109805608/ converted to text.\n",
      "https://www.healthhub.sg/live-healthy/1095/healthy-living-in-your-golden-age converted to text.\n",
      "https://www.healthxchange.sg/news/seniors-resilient-but-many-do-not-exercise converted to text.\n",
      "https://www.mnd.gov.sg/mndlink/2019/nov-dec/article2.htm converted to text.\n",
      "https://www.moh.gov.sg/ifeelyoungsg converted to text.\n",
      "https://www.ncbi.nlm.nih.gov/pubmed/12822635 converted to text.\n",
      "https://www.nyc.gov.sg/en/initiatives/resources/national-youth-survey/ converted to text.\n",
      "https://www.pacificprime.sg/blog/singaporeans-struggle-skyrocketing-medical-costs/ converted to text.\n",
      "https://www.population.sg/articles/unlocking-the-value-of-the-super-elderly converted to text.\n",
      "https://www.propertyguru.com.sg/property-management-news/2019/10/183798/exhibition-highlights-need-for-age-friendly-neighbourhoods converted to text.\n",
      "https://www.singaporeassignmenthelp.com/samples/essay-on-ageing-population-singapore/ converted to text.\n",
      "https://www.singstat.gov.sg/-/media/files/publications/population/ssnsep09-pg8-12.pdf converted to text.\n",
      "https://www.singstat.gov.sg/find-data/search-by-theme/population/elderly-youth-and-gender-profile/latest-data converted to text.\n",
      "https://www.singstat.gov.sg/find-data/search-by-theme/population/population-and-population-structure/visualising-data/population-trends converted to text.\n",
      "https://www.stjohneldershome.org.sg/blog/young-old-caring-for-the-old-old converted to text.\n",
      "https://www.straitstimes.com/business/property/gibraltar-crescent-site-for-pilot-dementia-care-village-up-for-tender converted to text.\n",
      "https://www.straitstimes.com/singapore/ageing-well-with-help-from-the-young converted to text.\n",
      "https://www.straitstimes.com/singapore/health/first-dementia-care-village-to-be-built-in-sembawang converted to text.\n",
      "https://www.todayonline.com/singapore/all-281-units-hillford-sold-out-first-day converted to text.\n",
      "https://www.todayonline.com/singapore/elderly-make-almost-half-spore-population-2050-united-nations converted to text.\n",
      "https://www.touch.org.sg/about-touch/our-services converted to text.\n",
      "https://www.unscrambled.sg/2020/02/01/how-to-ensure-sustainability-with-an-ageing-population-singapore-is-so-young-but-ageing-so-fast/ converted to text.\n",
      "https://www.ura.gov.sg/-/media/Corporate/Media-Room/2019/Oct/pr19-44a.pdf converted to text.\n",
      "https://www.ura.gov.sg/-/media/Corporate/Resources/Publications/Skyline/Skyline-PDFs/Skyline_Issue_03.pdf converted to text.\n",
      "https://www.ura.gov.sg/-/media/Corporate/Resources/Publications/Skyline/Skyline-PDFs/Skyline_Issue_09.pdf converted to text.\n",
      "https://www.ura.gov.sg/-/media/User%20Defined/URA%20Online/circulars/2012/feb/dc12-01app1.pdf?la=en converted to text.\n",
      "https://www.ura.gov.sg/Corporate/Event/Designing-our-age-friendly-city converted to text.\n",
      "https://www.ura.gov.sg/Corporate/Get-Involved/Plan-Our-Future-SG/Innovative-Urban-Solutions/Age-friendly-city converted to text.\n",
      "https://www.ura.gov.sg/Corporate/Guidelines/Development-Control/Non-Residential/C-CI/Home converted to text.\n",
      "https://www.ura.gov.sg/Corporate/Media-Room/Media-Releases/pr19-44 converted to text.\n",
      "https://www.ura.gov.sg/Corporate/Resources/Ideas-and-Trends/Ageing-and-social-capital converted to text.\n",
      "https://www.ura.gov.sg/Corporate/Resources/Ideas-and-Trends/Cohousing-for-successful-ageing converted to text.\n",
      "https://www.ura.gov.sg/Corporate/Resources/Ideas-and-Trends/Designing-an-intergenerational-city converted to text.\n",
      "https://www.ura.gov.sg/Corporate/Resources/Ideas-and-Trends/Intelligent-Planning-of-Age-Friendly-Cities converted to text.\n"
     ]
    }
   ],
   "source": [
    "path = \"./csv/\"\n",
    "if not os.path.exists(path):\n",
    "        os.makedirs(path)\n",
    "\n",
    "csv = open(path + \"out.csv\",\"w\")\n",
    "\n",
    "csv.write(\"url,content\\n\")\n",
    "\n",
    "for url in url_list:\n",
    "    try:\n",
    "        csv.write(url + \",\" + get_content_from_url(url) + \"\\n\")\n",
    "        print(url + \" converted to text.\")\n",
    "        time.sleep(1)\n",
    "    except:\n",
    "        print(url + \" failed to convert to text.\")\n",
    "\n",
    "csv.close()"
   ]
  },
  {
   "cell_type": "code",
   "execution_count": null,
   "metadata": {
    "scrolled": true
   },
   "outputs": [],
   "source": []
  },
  {
   "cell_type": "code",
   "execution_count": null,
   "metadata": {},
   "outputs": [],
   "source": []
  },
  {
   "cell_type": "code",
   "execution_count": null,
   "metadata": {},
   "outputs": [],
   "source": []
  }
 ],
 "metadata": {
  "kernelspec": {
   "display_name": "Python 3",
   "language": "python",
   "name": "python3"
  },
  "language_info": {
   "codemirror_mode": {
    "name": "ipython",
    "version": 3
   },
   "file_extension": ".py",
   "mimetype": "text/x-python",
   "name": "python",
   "nbconvert_exporter": "python",
   "pygments_lexer": "ipython3",
   "version": "3.7.4"
  }
 },
 "nbformat": 4,
 "nbformat_minor": 2
}
