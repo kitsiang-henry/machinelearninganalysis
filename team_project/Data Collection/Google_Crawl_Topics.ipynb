{
 "cells": [
  {
   "cell_type": "code",
   "execution_count": 2,
   "metadata": {},
   "outputs": [],
   "source": [
    "from googlesearch import search\n",
    "import time"
   ]
  },
  {
   "cell_type": "code",
   "execution_count": 9,
   "metadata": {},
   "outputs": [
    {
     "name": "stdout",
     "output_type": "stream",
     "text": [
      "https://www.singstat.gov.sg/find-data/search-by-theme/population/elderly-youth-and-gender-profile/latest-data\n",
      "https://www.singstat.gov.sg/find-data/search-by-theme/population/elderly-youth-and-gender-profile/visualising-data\n",
      "https://www.straitstimes.com/singapore/ageing-well-with-help-from-the-young\n",
      "https://www.straitstimes.com/singapore/health/children-bring-smiles-to-elderly-faces\n",
      "https://epochtimes.today/fostering-communication-between-the-youth-and-the-elderly/\n",
      "https://www.channelnewsasia.com/news/commentary/ageing-issues-ministry-singapore-policy-elderly-seniors-ageing-11782364\n",
      "https://www.csc.gov.sg/articles/positive-ageing-how-can-we-make-it-happen\n",
      "https://www.todayonline.com/singapore/elderly-make-almost-half-spore-population-2050-united-nations\n",
      "https://cityofgood.sg/resources/cheatsheet-issues-faced-by-the-elderly-in-singapore/\n",
      "http://www.concernandcare.org.sg/prog_Y4EP.htm\n",
      "https://www.ncss.gov.sg/GatewayPages/Social-Services/Senior\n",
      "https://cityofgood.sg/resources/issues-faced-by-the-elderly-in-singapore/\n",
      "https://knoema.com/atlas/Singapore/topics/Education/Literacy/Elderly-illiteracy\n",
      "https://www.businesstimes.com.sg/life-culture/company-of-good/leaving-no-one-behind-on-road-to-progress\n",
      "http://www.smj.org.sg/article/successful-ageing-singapore-prevalence-and-correlates-national-survey-older-adults\n",
      "https://www.touch.org.sg/\n",
      "https://www.touch.org.sg/about-touch/our-services\n",
      "https://www.singaporeassignmenthelp.com/samples/essay-on-ageing-population-singapore/\n",
      "https://www.moh.gov.sg/ifeelyoungsg\n",
      "https://bethesdacare.sg/\n",
      "https://www.calvary.sg/\n",
      "https://www.cdc.org.sg/centralsingapore/programmes/seniors\n",
      "https://www.duke-nus.edu.sg/care/research/dataset-codebook/panel-on-health-and-ageing-of-singaporean-elderly-(phase)-wave-1\n",
      "https://www.aic-blog.com/\n",
      "https://www.ymca.org.sg/ymca-silver-fiesta-2019-brings-smiles-to-1200-seniors/\n",
      "https://www.mci.gov.sg/pressroom/news-and-stories/stories/2019/2/tech-for-all---meet-the-it-experts-helping-the-elderly\n",
      "https://www.facebook.com/youthcorpssg/photos/sharelahsg-aging-simulationever-wondered-what-it-is-like-to-grow-old-and-gradual/630748467110821/\n",
      "https://www.carecorner.org.sg/\n",
      "https://lcsi.smu.edu.sg/research/elderly-population-singapore\n",
      "https://libguides.nus.edu.sg/c.php?g=145497&p=956009\n",
      "https://www.temasek.com.sg/en/news-and-views/stories/community/care-where-you-need-it-the-most\n",
      "https://www.pa.gov.sg/our-programmes/active-ageing\n",
      "https://mothership.sg/2017/12/demographic-time-bomb-singapore/\n",
      "https://www.lakeside.org.sg/our-services/seniors-services/\n",
      "https://medium.com/sgmci/never-too-young-to-give-back-cc5eaa169753\n",
      "https://www.worldometers.info/world-population/singapore-population/\n",
      "https://www.healthhub.sg/live-healthy/1095/healthy-living-in-your-golden-age\n",
      "https://www.femalemag.com.sg/fashion/instagram-elders-with-style/\n",
      "https://www.tzuchi.org.sg/en/our-missions/medicine/seniors-engagement-and-enabling-node/\n",
      "https://www.mccy.gov.sg/about-us/news-and-resources/speeches/2019/feb/recognising-the-importance-of-senior-volunteerism-and-active-seniors\n",
      "https://aiesec.org.sg/opportunities/project-care-2/\n",
      "https://www.linkedin.com/company/touch-community-services\n",
      "https://www.redcross.sg/media-centre/press-releases/747-red-cross-youth-to-engage-200-elderly-disabled-in-first-aid-home-safety.html\n",
      "https://www.statista.com/statistics/624913/singapore-population-by-age-group/\n",
      "https://www.ssi.sg/Training/Short-Courses\n",
      "https://portal.youthcorps.sg/Public/ViewProject/2364\n",
      "https://www.volunteer.sg/volunteer/opportunity/details/?id=89a88690-b006-ea11-a9e1-e7ed68ac186b\n",
      "https://www.population.sg/articles/are-the-old-age-support-ratio-trends-similar-across-different-working-age-groups\n",
      "https://www.researchgate.net/publication/38068185_Attitudes_Towards_the_Elderly_among_Singapore_Medical_Students\n",
      "https://www.imh.com.sg/research/page.aspx?id=342\n"
     ]
    }
   ],
   "source": [
    "query = \"singapore youth AND elderly\"\n",
    "my_results_list = []\n",
    "for i in search(query,        # The query you want to run\n",
    "                tld = 'com',  # The top level domain\n",
    "                lang = 'en',  # The language\n",
    "                num = 20,     # Number of results per page\n",
    "                start = 0,    # First result to retrieve\n",
    "                stop = 50,  # Last result to retrieve\n",
    "                pause = 2.0,  # Lapse between HTTP requests\n",
    "               ):\n",
    "    \n",
    "    if i not in my_results_list:\n",
    "        my_results_list.append(i)\n",
    "        print(i)\n",
    "    else:\n",
    "        print(i + \" already existed\")"
   ]
  },
  {
   "cell_type": "code",
   "execution_count": 3,
   "metadata": {},
   "outputs": [
    {
     "name": "stdout",
     "output_type": "stream",
     "text": [
      "singapore_elderly_and_young1581687092.txt written to out folder\n"
     ]
    }
   ],
   "source": [
    "import os \n",
    "\n",
    "\n",
    "#if directory don't exist\n",
    "path = \"./out/\"\n",
    "if not os.path.exists(path):\n",
    "    os.makedirs(path)\n",
    "\n",
    "#Write into txt file for record\n",
    "time_string = str(int(time.time()))\n",
    "f = open(path + query.replace(\" \", \"_\") + time_string + \".txt\",\"w\")\n",
    "\n",
    "for result in my_results_list:\n",
    "    f.write(result +\"\\n\")\n",
    "    \n",
    "f.close()\n",
    "print(query.replace(\" \", \"_\") + time_string + \".txt\" + \" written to out folder\")"
   ]
  },
  {
   "cell_type": "code",
   "execution_count": null,
   "metadata": {},
   "outputs": [],
   "source": []
  }
 ],
 "metadata": {
  "kernelspec": {
   "display_name": "Python 3",
   "language": "python",
   "name": "python3"
  },
  "language_info": {
   "codemirror_mode": {
    "name": "ipython",
    "version": 3
   },
   "file_extension": ".py",
   "mimetype": "text/x-python",
   "name": "python",
   "nbconvert_exporter": "python",
   "pygments_lexer": "ipython3",
   "version": "3.7.4"
  }
 },
 "nbformat": 4,
 "nbformat_minor": 2
}
